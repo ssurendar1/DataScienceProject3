{
 "cells": [
  {
   "cell_type": "markdown",
   "id": "eb58aa3b",
   "metadata": {},
   "source": [
    "## CIS 9: Final Project\n",
    "### Shweta Surendar \n",
    "3/27/23"
   ]
  },
  {
   "cell_type": "markdown",
   "id": "75a444dc",
   "metadata": {},
   "source": [
    "### Introduction\n",
    "\n",
    "This project aims to use the features of different prosecuted cases in order to train a classification model that will be able to determine whether a case will be convicted or dismissed. This dataset includes catgorical data on all cases presented to the San Francisco District Attorney’s Office in which the office has taken action to prosecute a case. The goal of this project would be to use the features, or possibly a subset of them, and find their correlation with the status of the case in order to construct a model that can predict whether the case will be convicted or dismissed.\n",
    "\n",
    "\n",
    "As a Pre-Trial Attorney on my school’s mock trial team, having data on which cases have been successfully convicted and knowing the likelihood of a case being prosecuted is very useful information. This would cut out the busy work in a lawyer’s research process, allowing them to be much more efficient and focus on the most important part of their work: constructing their argument. The scope of this project would be for any case prosecuted in San Francisco as all the data was collected from there. \n",
    "\n"
   ]
  },
  {
   "cell_type": "markdown",
   "id": "5e64a4f4",
   "metadata": {},
   "source": [
    "### Background\n",
    "\n",
    "All the input data for this project can be found <a href=\" https://www.kaggle.com/datasets/vivovinco/district-attorney-cases-prosecuted\">here</a>. This dataset has 79,289 rows and 10 features. \n",
    "\n"
   ]
  },
  {
   "cell_type": "markdown",
   "id": "8b66e521",
   "metadata": {},
   "source": [
    "Imported modules below"
   ]
  },
  {
   "cell_type": "code",
   "execution_count": 136,
   "id": "769c7ca2",
   "metadata": {},
   "outputs": [],
   "source": [
    "import pandas as pd\n",
    "import seaborn as sns\n",
    "import numpy as np\n",
    "import matplotlib.pyplot as plt\n",
    "import seaborn as sns\n",
    "from sklearn.model_selection import train_test_split\n",
    "from sklearn import datasets\n",
    "from sklearn import metrics\n",
    "from sklearn.neighbors import KNeighborsClassifier\n",
    "from sklearn.naive_bayes import GaussianNB\n",
    "from sklearn.ensemble import RandomForestClassifier\n",
    "from sklearn.tree import DecisionTreeClassifier\n",
    "from sklearn.metrics import f1_score\n",
    "import sklearn.linear_model as lm"
   ]
  },
  {
   "cell_type": "markdown",
   "id": "12cf159c",
   "metadata": {},
   "source": [
    "1. __Read data from the source file into a DataFrame__"
   ]
  },
  {
   "cell_type": "code",
   "execution_count": 137,
   "id": "c5334bec",
   "metadata": {
    "scrolled": true
   },
   "outputs": [
    {
     "data": {
      "text/html": [
       "<div>\n",
       "<style scoped>\n",
       "    .dataframe tbody tr th:only-of-type {\n",
       "        vertical-align: middle;\n",
       "    }\n",
       "\n",
       "    .dataframe tbody tr th {\n",
       "        vertical-align: top;\n",
       "    }\n",
       "\n",
       "    .dataframe thead th {\n",
       "        text-align: right;\n",
       "    }\n",
       "</style>\n",
       "<table border=\"1\" class=\"dataframe\">\n",
       "  <thead>\n",
       "    <tr style=\"text-align: right;\">\n",
       "      <th></th>\n",
       "      <th>incident_number</th>\n",
       "      <th>court_number</th>\n",
       "      <th>arrest_date</th>\n",
       "      <th>list_of_filed_charges</th>\n",
       "      <th>filed_case_type</th>\n",
       "      <th>crime_type</th>\n",
       "      <th>dv_case</th>\n",
       "      <th>da_action_taken</th>\n",
       "      <th>case_status</th>\n",
       "      <th>data_as_of</th>\n",
       "      <th>data_loaded_at</th>\n",
       "    </tr>\n",
       "  </thead>\n",
       "  <tbody>\n",
       "    <tr>\n",
       "      <th>0</th>\n",
       "      <td>Z20110822-02461723</td>\n",
       "      <td>2461723</td>\n",
       "      <td>2014/01/03</td>\n",
       "      <td>550A1/F/0, 550B1/F/0, 550B3/F/0, 550B2/F/0, 66...</td>\n",
       "      <td>MTR</td>\n",
       "      <td>Theft</td>\n",
       "      <td>No</td>\n",
       "      <td>New charges filed</td>\n",
       "      <td>Filed Motion to Revoke</td>\n",
       "      <td>2023/02/07</td>\n",
       "      <td>02/10/2023 10:00:48 PM</td>\n",
       "    </tr>\n",
       "    <tr>\n",
       "      <th>1</th>\n",
       "      <td>110861944</td>\n",
       "      <td>2463448</td>\n",
       "      <td>2014/01/07</td>\n",
       "      <td>484A4905/M/0</td>\n",
       "      <td>MTR</td>\n",
       "      <td>Petty Theft</td>\n",
       "      <td>No</td>\n",
       "      <td>New charges filed</td>\n",
       "      <td>Filed Motion to Revoke</td>\n",
       "      <td>2023/02/07</td>\n",
       "      <td>02/10/2023 10:00:48 PM</td>\n",
       "    </tr>\n",
       "    <tr>\n",
       "      <th>2</th>\n",
       "      <td>120005308</td>\n",
       "      <td>2464591</td>\n",
       "      <td>2014/01/23</td>\n",
       "      <td>647E/M/0, 22A/I/0, 372/M/0</td>\n",
       "      <td>MTR</td>\n",
       "      <td>Disorderly Conduct</td>\n",
       "      <td>No</td>\n",
       "      <td>New charges filed</td>\n",
       "      <td>Filed Motion to Revoke</td>\n",
       "      <td>2023/02/07</td>\n",
       "      <td>02/10/2023 10:00:48 PM</td>\n",
       "    </tr>\n",
       "    <tr>\n",
       "      <th>3</th>\n",
       "      <td>130512519</td>\n",
       "      <td>2474189</td>\n",
       "      <td>2014/01/03</td>\n",
       "      <td>TFWT/I/0, 242/M/0, TFWT/I/0</td>\n",
       "      <td>MTR</td>\n",
       "      <td>Assault and Battery</td>\n",
       "      <td>No</td>\n",
       "      <td>New charges filed</td>\n",
       "      <td>Filed Motion to Revoke</td>\n",
       "      <td>2023/02/07</td>\n",
       "      <td>02/10/2023 10:00:48 PM</td>\n",
       "    </tr>\n",
       "    <tr>\n",
       "      <th>4</th>\n",
       "      <td>130806469</td>\n",
       "      <td>2476224</td>\n",
       "      <td>2014/01/13</td>\n",
       "      <td>459/M/2, 666A/M/0</td>\n",
       "      <td>MTR</td>\n",
       "      <td>Petty Theft</td>\n",
       "      <td>No</td>\n",
       "      <td>New charges filed</td>\n",
       "      <td>Filed Motion to Revoke</td>\n",
       "      <td>2023/02/07</td>\n",
       "      <td>02/10/2023 10:00:48 PM</td>\n",
       "    </tr>\n",
       "  </tbody>\n",
       "</table>\n",
       "</div>"
      ],
      "text/plain": [
       "      incident_number  court_number arrest_date  \\\n",
       "0  Z20110822-02461723       2461723  2014/01/03   \n",
       "1           110861944       2463448  2014/01/07   \n",
       "2           120005308       2464591  2014/01/23   \n",
       "3           130512519       2474189  2014/01/03   \n",
       "4           130806469       2476224  2014/01/13   \n",
       "\n",
       "                               list_of_filed_charges filed_case_type  \\\n",
       "0  550A1/F/0, 550B1/F/0, 550B3/F/0, 550B2/F/0, 66...             MTR   \n",
       "1                                       484A4905/M/0             MTR   \n",
       "2                         647E/M/0, 22A/I/0, 372/M/0             MTR   \n",
       "3                        TFWT/I/0, 242/M/0, TFWT/I/0             MTR   \n",
       "4                                  459/M/2, 666A/M/0             MTR   \n",
       "\n",
       "            crime_type dv_case    da_action_taken             case_status  \\\n",
       "0                Theft      No  New charges filed  Filed Motion to Revoke   \n",
       "1          Petty Theft      No  New charges filed  Filed Motion to Revoke   \n",
       "2   Disorderly Conduct      No  New charges filed  Filed Motion to Revoke   \n",
       "3  Assault and Battery      No  New charges filed  Filed Motion to Revoke   \n",
       "4          Petty Theft      No  New charges filed  Filed Motion to Revoke   \n",
       "\n",
       "   data_as_of          data_loaded_at  \n",
       "0  2023/02/07  02/10/2023 10:00:48 PM  \n",
       "1  2023/02/07  02/10/2023 10:00:48 PM  \n",
       "2  2023/02/07  02/10/2023 10:00:48 PM  \n",
       "3  2023/02/07  02/10/2023 10:00:48 PM  \n",
       "4  2023/02/07  02/10/2023 10:00:48 PM  "
      ]
     },
     "execution_count": 137,
     "metadata": {},
     "output_type": "execute_result"
    }
   ],
   "source": [
    "data = pd.read_csv(\"District_Attorney_Cases_Prosecuted.csv\", encoding='ISO-8859-1')\n",
    "data.head()"
   ]
  },
  {
   "cell_type": "markdown",
   "id": "bebf0c1f",
   "metadata": {},
   "source": [
    "2. __Dropped irrelevant data__<br>\n",
    "The columns 'incident_number', 'court_number', 'arrest_date', 'data_as_of', 'data_loaded_at', and 'list_of_filed_charges' do not affect the content of the case which is what this investigation is focused on."
   ]
  },
  {
   "cell_type": "code",
   "execution_count": 138,
   "id": "43da1129",
   "metadata": {},
   "outputs": [
    {
     "data": {
      "text/html": [
       "<div>\n",
       "<style scoped>\n",
       "    .dataframe tbody tr th:only-of-type {\n",
       "        vertical-align: middle;\n",
       "    }\n",
       "\n",
       "    .dataframe tbody tr th {\n",
       "        vertical-align: top;\n",
       "    }\n",
       "\n",
       "    .dataframe thead th {\n",
       "        text-align: right;\n",
       "    }\n",
       "</style>\n",
       "<table border=\"1\" class=\"dataframe\">\n",
       "  <thead>\n",
       "    <tr style=\"text-align: right;\">\n",
       "      <th></th>\n",
       "      <th>filed_case_type</th>\n",
       "      <th>crime_type</th>\n",
       "      <th>dv_case</th>\n",
       "      <th>da_action_taken</th>\n",
       "      <th>case_status</th>\n",
       "    </tr>\n",
       "  </thead>\n",
       "  <tbody>\n",
       "    <tr>\n",
       "      <th>0</th>\n",
       "      <td>MTR</td>\n",
       "      <td>Theft</td>\n",
       "      <td>No</td>\n",
       "      <td>New charges filed</td>\n",
       "      <td>Filed Motion to Revoke</td>\n",
       "    </tr>\n",
       "    <tr>\n",
       "      <th>1</th>\n",
       "      <td>MTR</td>\n",
       "      <td>Petty Theft</td>\n",
       "      <td>No</td>\n",
       "      <td>New charges filed</td>\n",
       "      <td>Filed Motion to Revoke</td>\n",
       "    </tr>\n",
       "    <tr>\n",
       "      <th>2</th>\n",
       "      <td>MTR</td>\n",
       "      <td>Disorderly Conduct</td>\n",
       "      <td>No</td>\n",
       "      <td>New charges filed</td>\n",
       "      <td>Filed Motion to Revoke</td>\n",
       "    </tr>\n",
       "    <tr>\n",
       "      <th>3</th>\n",
       "      <td>MTR</td>\n",
       "      <td>Assault and Battery</td>\n",
       "      <td>No</td>\n",
       "      <td>New charges filed</td>\n",
       "      <td>Filed Motion to Revoke</td>\n",
       "    </tr>\n",
       "    <tr>\n",
       "      <th>4</th>\n",
       "      <td>MTR</td>\n",
       "      <td>Petty Theft</td>\n",
       "      <td>No</td>\n",
       "      <td>New charges filed</td>\n",
       "      <td>Filed Motion to Revoke</td>\n",
       "    </tr>\n",
       "  </tbody>\n",
       "</table>\n",
       "</div>"
      ],
      "text/plain": [
       "  filed_case_type           crime_type dv_case    da_action_taken  \\\n",
       "0             MTR                Theft      No  New charges filed   \n",
       "1             MTR          Petty Theft      No  New charges filed   \n",
       "2             MTR   Disorderly Conduct      No  New charges filed   \n",
       "3             MTR  Assault and Battery      No  New charges filed   \n",
       "4             MTR          Petty Theft      No  New charges filed   \n",
       "\n",
       "              case_status  \n",
       "0  Filed Motion to Revoke  \n",
       "1  Filed Motion to Revoke  \n",
       "2  Filed Motion to Revoke  \n",
       "3  Filed Motion to Revoke  \n",
       "4  Filed Motion to Revoke  "
      ]
     },
     "execution_count": 138,
     "metadata": {},
     "output_type": "execute_result"
    }
   ],
   "source": [
    "data = data.drop(columns=['incident_number', 'court_number','arrest_date','data_as_of','data_loaded_at', 'list_of_filed_charges'])\n",
    "data.head()"
   ]
  },
  {
   "cell_type": "markdown",
   "id": "f13da06d",
   "metadata": {},
   "source": [
    "3. __Checked for any NaN's that may be left__<br>\n",
    "I removed the rows that still had NaN's."
   ]
  },
  {
   "cell_type": "code",
   "execution_count": 139,
   "id": "b2b1d01a",
   "metadata": {},
   "outputs": [
    {
     "name": "stdout",
     "output_type": "stream",
     "text": [
      "NaN Count in each column:\n",
      "filed_case_type     728\n",
      "crime_type         1407\n",
      "dv_case               0\n",
      "da_action_taken     218\n",
      "case_status        3551\n",
      "dtype: int64\n"
     ]
    }
   ],
   "source": [
    "#These are the NaN values still in our data\n",
    "nanCount = data.isna().sum()\n",
    "print(\"NaN Count in each column:\")\n",
    "print(nanCount)"
   ]
  },
  {
   "cell_type": "code",
   "execution_count": 140,
   "id": "3707744c",
   "metadata": {},
   "outputs": [
    {
     "name": "stdout",
     "output_type": "stream",
     "text": [
      "NaN Count in each column:\n",
      "filed_case_type    0\n",
      "crime_type         0\n",
      "dv_case            0\n",
      "da_action_taken    0\n",
      "case_status        0\n",
      "dtype: int64\n"
     ]
    },
    {
     "data": {
      "text/html": [
       "<div>\n",
       "<style scoped>\n",
       "    .dataframe tbody tr th:only-of-type {\n",
       "        vertical-align: middle;\n",
       "    }\n",
       "\n",
       "    .dataframe tbody tr th {\n",
       "        vertical-align: top;\n",
       "    }\n",
       "\n",
       "    .dataframe thead th {\n",
       "        text-align: right;\n",
       "    }\n",
       "</style>\n",
       "<table border=\"1\" class=\"dataframe\">\n",
       "  <thead>\n",
       "    <tr style=\"text-align: right;\">\n",
       "      <th></th>\n",
       "      <th>filed_case_type</th>\n",
       "      <th>crime_type</th>\n",
       "      <th>dv_case</th>\n",
       "      <th>da_action_taken</th>\n",
       "      <th>case_status</th>\n",
       "    </tr>\n",
       "  </thead>\n",
       "  <tbody>\n",
       "    <tr>\n",
       "      <th>0</th>\n",
       "      <td>MTR</td>\n",
       "      <td>Theft</td>\n",
       "      <td>No</td>\n",
       "      <td>New charges filed</td>\n",
       "      <td>Filed Motion to Revoke</td>\n",
       "    </tr>\n",
       "    <tr>\n",
       "      <th>1</th>\n",
       "      <td>MTR</td>\n",
       "      <td>Petty Theft</td>\n",
       "      <td>No</td>\n",
       "      <td>New charges filed</td>\n",
       "      <td>Filed Motion to Revoke</td>\n",
       "    </tr>\n",
       "    <tr>\n",
       "      <th>2</th>\n",
       "      <td>MTR</td>\n",
       "      <td>Disorderly Conduct</td>\n",
       "      <td>No</td>\n",
       "      <td>New charges filed</td>\n",
       "      <td>Filed Motion to Revoke</td>\n",
       "    </tr>\n",
       "    <tr>\n",
       "      <th>3</th>\n",
       "      <td>MTR</td>\n",
       "      <td>Assault and Battery</td>\n",
       "      <td>No</td>\n",
       "      <td>New charges filed</td>\n",
       "      <td>Filed Motion to Revoke</td>\n",
       "    </tr>\n",
       "    <tr>\n",
       "      <th>4</th>\n",
       "      <td>MTR</td>\n",
       "      <td>Petty Theft</td>\n",
       "      <td>No</td>\n",
       "      <td>New charges filed</td>\n",
       "      <td>Filed Motion to Revoke</td>\n",
       "    </tr>\n",
       "  </tbody>\n",
       "</table>\n",
       "</div>"
      ],
      "text/plain": [
       "  filed_case_type           crime_type dv_case    da_action_taken  \\\n",
       "0             MTR                Theft      No  New charges filed   \n",
       "1             MTR          Petty Theft      No  New charges filed   \n",
       "2             MTR   Disorderly Conduct      No  New charges filed   \n",
       "3             MTR  Assault and Battery      No  New charges filed   \n",
       "4             MTR          Petty Theft      No  New charges filed   \n",
       "\n",
       "              case_status  \n",
       "0  Filed Motion to Revoke  \n",
       "1  Filed Motion to Revoke  \n",
       "2  Filed Motion to Revoke  \n",
       "3  Filed Motion to Revoke  \n",
       "4  Filed Motion to Revoke  "
      ]
     },
     "execution_count": 140,
     "metadata": {},
     "output_type": "execute_result"
    }
   ],
   "source": [
    "data = data.dropna()\n",
    "nanCount = data.isna().sum()\n",
    "print(\"NaN Count in each column:\")\n",
    "print(nanCount)\n",
    "data.head()"
   ]
  },
  {
   "cell_type": "markdown",
   "id": "85535ae0",
   "metadata": {},
   "source": [
    "4. __Only kept rows that had a case status of 'Convicted' or 'Dismissed'__"
   ]
  },
  {
   "cell_type": "code",
   "execution_count": 141,
   "id": "20be086a",
   "metadata": {},
   "outputs": [
    {
     "data": {
      "text/html": [
       "<div>\n",
       "<style scoped>\n",
       "    .dataframe tbody tr th:only-of-type {\n",
       "        vertical-align: middle;\n",
       "    }\n",
       "\n",
       "    .dataframe tbody tr th {\n",
       "        vertical-align: top;\n",
       "    }\n",
       "\n",
       "    .dataframe thead th {\n",
       "        text-align: right;\n",
       "    }\n",
       "</style>\n",
       "<table border=\"1\" class=\"dataframe\">\n",
       "  <thead>\n",
       "    <tr style=\"text-align: right;\">\n",
       "      <th></th>\n",
       "      <th>filed_case_type</th>\n",
       "      <th>crime_type</th>\n",
       "      <th>dv_case</th>\n",
       "      <th>da_action_taken</th>\n",
       "      <th>case_status</th>\n",
       "    </tr>\n",
       "  </thead>\n",
       "  <tbody>\n",
       "    <tr>\n",
       "      <th>11070</th>\n",
       "      <td>Felony</td>\n",
       "      <td>Willful Homicide</td>\n",
       "      <td>No</td>\n",
       "      <td>New charges filed</td>\n",
       "      <td>Conviction</td>\n",
       "    </tr>\n",
       "    <tr>\n",
       "      <th>11071</th>\n",
       "      <td>Felony</td>\n",
       "      <td>Willful Homicide</td>\n",
       "      <td>No</td>\n",
       "      <td>New charges filed</td>\n",
       "      <td>Conviction</td>\n",
       "    </tr>\n",
       "    <tr>\n",
       "      <th>11072</th>\n",
       "      <td>Felony</td>\n",
       "      <td>Willful Homicide</td>\n",
       "      <td>No</td>\n",
       "      <td>New charges filed</td>\n",
       "      <td>Conviction</td>\n",
       "    </tr>\n",
       "    <tr>\n",
       "      <th>11073</th>\n",
       "      <td>Felony</td>\n",
       "      <td>Willful Homicide</td>\n",
       "      <td>No</td>\n",
       "      <td>New charges filed</td>\n",
       "      <td>Conviction</td>\n",
       "    </tr>\n",
       "    <tr>\n",
       "      <th>11074</th>\n",
       "      <td>Felony</td>\n",
       "      <td>Willful Homicide</td>\n",
       "      <td>No</td>\n",
       "      <td>New charges filed</td>\n",
       "      <td>Conviction</td>\n",
       "    </tr>\n",
       "  </tbody>\n",
       "</table>\n",
       "</div>"
      ],
      "text/plain": [
       "      filed_case_type        crime_type dv_case    da_action_taken case_status\n",
       "11070          Felony  Willful Homicide      No  New charges filed  Conviction\n",
       "11071          Felony  Willful Homicide      No  New charges filed  Conviction\n",
       "11072          Felony  Willful Homicide      No  New charges filed  Conviction\n",
       "11073          Felony  Willful Homicide      No  New charges filed  Conviction\n",
       "11074          Felony  Willful Homicide      No  New charges filed  Conviction"
      ]
     },
     "execution_count": 141,
     "metadata": {},
     "output_type": "execute_result"
    }
   ],
   "source": [
    "datacd = data.loc[data['case_status'].isin([\"Conviction\",'Dismissal'])]\n",
    "datacd.head()"
   ]
  },
  {
   "cell_type": "markdown",
   "id": "ee7d371a",
   "metadata": {},
   "source": [
    "5. __Remove the 'da_action_taken' column__<br>\n",
    "After we reduced our dataframe to only include case status that were convictions or dismissals, all of the values in the 'da_action_taken' column are 'New charged filed', so we know it is not going to have an impact on whether a case is convicted or dismissed. The code below will remove that column."
   ]
  },
  {
   "cell_type": "code",
   "execution_count": 142,
   "id": "a00ad47b",
   "metadata": {},
   "outputs": [
    {
     "data": {
      "text/plain": [
       "New charges filed    47020\n",
       "Name: da_action_taken, dtype: int64"
      ]
     },
     "metadata": {},
     "output_type": "display_data"
    },
    {
     "data": {
      "text/html": [
       "<div>\n",
       "<style scoped>\n",
       "    .dataframe tbody tr th:only-of-type {\n",
       "        vertical-align: middle;\n",
       "    }\n",
       "\n",
       "    .dataframe tbody tr th {\n",
       "        vertical-align: top;\n",
       "    }\n",
       "\n",
       "    .dataframe thead th {\n",
       "        text-align: right;\n",
       "    }\n",
       "</style>\n",
       "<table border=\"1\" class=\"dataframe\">\n",
       "  <thead>\n",
       "    <tr style=\"text-align: right;\">\n",
       "      <th></th>\n",
       "      <th>filed_case_type</th>\n",
       "      <th>crime_type</th>\n",
       "      <th>dv_case</th>\n",
       "      <th>case_status</th>\n",
       "    </tr>\n",
       "  </thead>\n",
       "  <tbody>\n",
       "    <tr>\n",
       "      <th>11070</th>\n",
       "      <td>Felony</td>\n",
       "      <td>Willful Homicide</td>\n",
       "      <td>No</td>\n",
       "      <td>Conviction</td>\n",
       "    </tr>\n",
       "    <tr>\n",
       "      <th>11071</th>\n",
       "      <td>Felony</td>\n",
       "      <td>Willful Homicide</td>\n",
       "      <td>No</td>\n",
       "      <td>Conviction</td>\n",
       "    </tr>\n",
       "    <tr>\n",
       "      <th>11072</th>\n",
       "      <td>Felony</td>\n",
       "      <td>Willful Homicide</td>\n",
       "      <td>No</td>\n",
       "      <td>Conviction</td>\n",
       "    </tr>\n",
       "    <tr>\n",
       "      <th>11073</th>\n",
       "      <td>Felony</td>\n",
       "      <td>Willful Homicide</td>\n",
       "      <td>No</td>\n",
       "      <td>Conviction</td>\n",
       "    </tr>\n",
       "    <tr>\n",
       "      <th>11074</th>\n",
       "      <td>Felony</td>\n",
       "      <td>Willful Homicide</td>\n",
       "      <td>No</td>\n",
       "      <td>Conviction</td>\n",
       "    </tr>\n",
       "  </tbody>\n",
       "</table>\n",
       "</div>"
      ],
      "text/plain": [
       "      filed_case_type        crime_type dv_case case_status\n",
       "11070          Felony  Willful Homicide      No  Conviction\n",
       "11071          Felony  Willful Homicide      No  Conviction\n",
       "11072          Felony  Willful Homicide      No  Conviction\n",
       "11073          Felony  Willful Homicide      No  Conviction\n",
       "11074          Felony  Willful Homicide      No  Conviction"
      ]
     },
     "metadata": {},
     "output_type": "display_data"
    }
   ],
   "source": [
    "display(datacd['da_action_taken'].value_counts())\n",
    "datacd = datacd.drop(columns=['da_action_taken'])\n",
    "display(datacd.head())"
   ]
  },
  {
   "cell_type": "markdown",
   "id": "f4802d0b",
   "metadata": {},
   "source": [
    "6. __Change the _crime_type_ to the 'int' data type__<br>The code below gives every unique crime type a value from 1-40"
   ]
  },
  {
   "cell_type": "code",
   "execution_count": 143,
   "id": "76974123",
   "metadata": {},
   "outputs": [
    {
     "data": {
      "text/html": [
       "<div>\n",
       "<style scoped>\n",
       "    .dataframe tbody tr th:only-of-type {\n",
       "        vertical-align: middle;\n",
       "    }\n",
       "\n",
       "    .dataframe tbody tr th {\n",
       "        vertical-align: top;\n",
       "    }\n",
       "\n",
       "    .dataframe thead th {\n",
       "        text-align: right;\n",
       "    }\n",
       "</style>\n",
       "<table border=\"1\" class=\"dataframe\">\n",
       "  <thead>\n",
       "    <tr style=\"text-align: right;\">\n",
       "      <th></th>\n",
       "      <th>filed_case_type</th>\n",
       "      <th>crime_type</th>\n",
       "      <th>dv_case</th>\n",
       "      <th>case_status</th>\n",
       "    </tr>\n",
       "  </thead>\n",
       "  <tbody>\n",
       "    <tr>\n",
       "      <th>11070</th>\n",
       "      <td>Felony</td>\n",
       "      <td>1</td>\n",
       "      <td>No</td>\n",
       "      <td>Conviction</td>\n",
       "    </tr>\n",
       "    <tr>\n",
       "      <th>11071</th>\n",
       "      <td>Felony</td>\n",
       "      <td>1</td>\n",
       "      <td>No</td>\n",
       "      <td>Conviction</td>\n",
       "    </tr>\n",
       "    <tr>\n",
       "      <th>11072</th>\n",
       "      <td>Felony</td>\n",
       "      <td>1</td>\n",
       "      <td>No</td>\n",
       "      <td>Conviction</td>\n",
       "    </tr>\n",
       "    <tr>\n",
       "      <th>11073</th>\n",
       "      <td>Felony</td>\n",
       "      <td>1</td>\n",
       "      <td>No</td>\n",
       "      <td>Conviction</td>\n",
       "    </tr>\n",
       "    <tr>\n",
       "      <th>11074</th>\n",
       "      <td>Felony</td>\n",
       "      <td>1</td>\n",
       "      <td>No</td>\n",
       "      <td>Conviction</td>\n",
       "    </tr>\n",
       "    <tr>\n",
       "      <th>...</th>\n",
       "      <td>...</td>\n",
       "      <td>...</td>\n",
       "      <td>...</td>\n",
       "      <td>...</td>\n",
       "    </tr>\n",
       "    <tr>\n",
       "      <th>94475</th>\n",
       "      <td>Felony</td>\n",
       "      <td>40</td>\n",
       "      <td>No</td>\n",
       "      <td>Dismissal</td>\n",
       "    </tr>\n",
       "    <tr>\n",
       "      <th>94476</th>\n",
       "      <td>Felony</td>\n",
       "      <td>40</td>\n",
       "      <td>No</td>\n",
       "      <td>Dismissal</td>\n",
       "    </tr>\n",
       "    <tr>\n",
       "      <th>94494</th>\n",
       "      <td>Felony</td>\n",
       "      <td>40</td>\n",
       "      <td>No</td>\n",
       "      <td>Dismissal</td>\n",
       "    </tr>\n",
       "    <tr>\n",
       "      <th>94495</th>\n",
       "      <td>Felony</td>\n",
       "      <td>40</td>\n",
       "      <td>No</td>\n",
       "      <td>Dismissal</td>\n",
       "    </tr>\n",
       "    <tr>\n",
       "      <th>94535</th>\n",
       "      <td>Felony</td>\n",
       "      <td>40</td>\n",
       "      <td>No</td>\n",
       "      <td>Dismissal</td>\n",
       "    </tr>\n",
       "  </tbody>\n",
       "</table>\n",
       "<p>47020 rows × 4 columns</p>\n",
       "</div>"
      ],
      "text/plain": [
       "      filed_case_type  crime_type dv_case case_status\n",
       "11070          Felony           1      No  Conviction\n",
       "11071          Felony           1      No  Conviction\n",
       "11072          Felony           1      No  Conviction\n",
       "11073          Felony           1      No  Conviction\n",
       "11074          Felony           1      No  Conviction\n",
       "...               ...         ...     ...         ...\n",
       "94475          Felony          40      No   Dismissal\n",
       "94476          Felony          40      No   Dismissal\n",
       "94494          Felony          40      No   Dismissal\n",
       "94495          Felony          40      No   Dismissal\n",
       "94535          Felony          40      No   Dismissal\n",
       "\n",
       "[47020 rows x 4 columns]"
      ]
     },
     "execution_count": 143,
     "metadata": {},
     "output_type": "execute_result"
    }
   ],
   "source": [
    "keyList = datacd['crime_type'].unique()\n",
    "myDict = {key: None for key in keyList}\n",
    "keyIndex = 1\n",
    "for key in myDict:\n",
    "    myDict[key] = keyIndex\n",
    "    keyIndex = keyIndex + 1\n",
    "datacd = datacd.replace(myDict)\n",
    "datacd = datacd.astype({'crime_type': 'int'}) \n",
    "dict_crime = myDict\n",
    "datacd"
   ]
  },
  {
   "cell_type": "markdown",
   "id": "827ac2a5",
   "metadata": {},
   "source": [
    "### Analysis\n",
    "This code plots a seaborn scatterplot of the crime type versus the case status. This code is what I researched that was beyond what was covered in this class. I learned how to modify the traditional seaborn scatterplot to find the needs of this specific problem. Making the seaborn scatterplot a 'violin' plot helped show which type of case had the most convictions and which had the most dismissals. A wider portion in the graph indicates more convictions or dismissals, somthing that wouldn't be too clear in a regular scatterplot. From the graph we can see, for example, that Case 13, 'Driving Under Influence Cases', had a much greater number of convictions and Case 40, 'Other Sex Law Violations', had very few convictions in comparison to the dismissals. "
   ]
  },
  {
   "cell_type": "code",
   "execution_count": 155,
   "id": "6f9363b9",
   "metadata": {},
   "outputs": [
    {
     "data": {
      "image/png": "[encoded data removed]",
      "text/plain": [
       "<Figure size 600x700 with 1 Axes>"
      ]
     },
     "metadata": {},
     "output_type": "display_data"
    }
   ],
   "source": [
    "sns.catplot(data=datacd, x='case_status', y='crime_type', kind=\"violin\")\n",
    "plt.yticks([0,2,4,6,8,10,12,14,16,18,20,22,24,26,28,30,32,34,36,38,40])\n",
    "fig = plt.gcf()\n",
    "fig.set_size_inches(6,7)\n",
    "plt.show()"
   ]
  },
  {
   "cell_type": "markdown",
   "id": "32670bd5",
   "metadata": {},
   "source": [
    "__Change the _filed_case_type_, _dv_case_, and _case_status_ to the 'int' data type__"
   ]
  },
  {
   "cell_type": "code",
   "execution_count": 156,
   "id": "c2d84335",
   "metadata": {},
   "outputs": [],
   "source": [
    "dict_status = {'Conviction': 0, 'Dismissal': 1}\n",
    "datacd.replace(dict_status, inplace=True)\n",
    "datacd = datacd.astype({'case_status': 'int'}) \n",
    "dict_dv = {'Yes': 0, 'No': 1}\n",
    "datacd.replace(dict_dv, inplace=True)\n",
    "datacd = datacd.astype({'dv_case': 'int'}) "
   ]
  },
  {
   "cell_type": "code",
   "execution_count": 157,
   "id": "78d27269",
   "metadata": {
    "scrolled": true
   },
   "outputs": [
    {
     "data": {
      "text/html": [
       "<div>\n",
       "<style scoped>\n",
       "    .dataframe tbody tr th:only-of-type {\n",
       "        vertical-align: middle;\n",
       "    }\n",
       "\n",
       "    .dataframe tbody tr th {\n",
       "        vertical-align: top;\n",
       "    }\n",
       "\n",
       "    .dataframe thead th {\n",
       "        text-align: right;\n",
       "    }\n",
       "</style>\n",
       "<table border=\"1\" class=\"dataframe\">\n",
       "  <thead>\n",
       "    <tr style=\"text-align: right;\">\n",
       "      <th></th>\n",
       "      <th>filed_case_type</th>\n",
       "      <th>crime_type</th>\n",
       "      <th>dv_case</th>\n",
       "      <th>case_status</th>\n",
       "    </tr>\n",
       "  </thead>\n",
       "  <tbody>\n",
       "    <tr>\n",
       "      <th>11070</th>\n",
       "      <td>1</td>\n",
       "      <td>1</td>\n",
       "      <td>1</td>\n",
       "      <td>0</td>\n",
       "    </tr>\n",
       "    <tr>\n",
       "      <th>11071</th>\n",
       "      <td>1</td>\n",
       "      <td>1</td>\n",
       "      <td>1</td>\n",
       "      <td>0</td>\n",
       "    </tr>\n",
       "    <tr>\n",
       "      <th>11072</th>\n",
       "      <td>1</td>\n",
       "      <td>1</td>\n",
       "      <td>1</td>\n",
       "      <td>0</td>\n",
       "    </tr>\n",
       "    <tr>\n",
       "      <th>11073</th>\n",
       "      <td>1</td>\n",
       "      <td>1</td>\n",
       "      <td>1</td>\n",
       "      <td>0</td>\n",
       "    </tr>\n",
       "    <tr>\n",
       "      <th>11074</th>\n",
       "      <td>1</td>\n",
       "      <td>1</td>\n",
       "      <td>1</td>\n",
       "      <td>0</td>\n",
       "    </tr>\n",
       "  </tbody>\n",
       "</table>\n",
       "</div>"
      ],
      "text/plain": [
       "       filed_case_type  crime_type  dv_case  case_status\n",
       "11070                1           1        1            0\n",
       "11071                1           1        1            0\n",
       "11072                1           1        1            0\n",
       "11073                1           1        1            0\n",
       "11074                1           1        1            0"
      ]
     },
     "execution_count": 157,
     "metadata": {},
     "output_type": "execute_result"
    }
   ],
   "source": [
    "keyList = datacd['filed_case_type'].unique()\n",
    "myDict = {key: None for key in keyList}\n",
    "keyIndex = 1\n",
    "for key in myDict:\n",
    "    myDict[key] = keyIndex\n",
    "    keyIndex = keyIndex + 1\n",
    "dict_type = myDict\n",
    "datacd = datacd.replace(myDict)\n",
    "datacd = datacd.astype({'filed_case_type': 'int'}) \n",
    "datacd.head()"
   ]
  },
  {
   "cell_type": "markdown",
   "id": "74c348dd",
   "metadata": {},
   "source": [
    "Map of all replaced values for easy reference."
   ]
  },
  {
   "cell_type": "code",
   "execution_count": 158,
   "id": "01fe5a0e",
   "metadata": {},
   "outputs": [
    {
     "name": "stdout",
     "output_type": "stream",
     "text": [
      "CRIME TYPE MAP\n",
      "{'Willful Homicide': 1, 'Manslaughter - Non Vehicular': 2, 'Forcible Rape': 3, 'Lewd or Lascivious': 4, 'Kidnapping': 5, 'Robbery': 6, 'Manslaughter - Vehicular': 7, 'Assault': 8, 'Willful Homicide (Att.)': 9, 'Burglary': 10, 'Weapons': 11, 'Arson': 12, 'DUI': 13, 'Hit-and-Run': 14, 'Motor Vehicle Theft': 15, 'Theft': 16, 'Forgery, Checks, Access Cards': 17, 'Escape': 18, 'Narcotics': 19, 'Unlawful Sexual Intercourse': 20, 'Other Sex Law Violations': 21, 'Bookmaking': 22, 'Other': 23, 'Assault and Battery': 24, 'Indecent Exposure': 25, 'Annoy/Molest Children': 26, 'Petty Theft': 27, 'Other Theft': 28, 'Vandalism': 29, 'Trespassing': 30, 'Lewd Conduct': 31, 'Contributing Delinquency of Minor': 32, 'Malicious Mischief': 33, 'Disturbing Peace': 34, 'Disorderly Conduct': 35, 'Prostitution': 36, 'Gambling': 37, 'Selected Traffic': 38, 'Liquor Laws': 39, 'Local SF Ordinance': 40, 'Faiulre to Appear/Non-Traffic': 41, 'Marijauana': 42, 'Enhancements': 43} \n",
      "\n",
      "CASE STATUS MAP\n",
      "{'Conviction': 0, 'Dismissal': 1} \n",
      "\n",
      "DV CASE MAP \n",
      "{'Yes': 0, 'No': 1} \n",
      "\n",
      "FILED CASE TYPE MAP\n",
      "{'Felony': 1, 'Misdemeanor': 2} \n",
      "\n"
     ]
    }
   ],
   "source": [
    "print('CRIME TYPE MAP')\n",
    "print(dict_crime, '\\n')\n",
    "print('CASE STATUS MAP')\n",
    "print(dict_status, '\\n')\n",
    "print('DV CASE MAP ')\n",
    "print(dict_dv, '\\n')\n",
    "print('FILED CASE TYPE MAP')\n",
    "print(dict_type, '\\n')"
   ]
  },
  {
   "cell_type": "markdown",
   "id": "d492ef9f",
   "metadata": {},
   "source": [
    "Verify that all data types are now int:"
   ]
  },
  {
   "cell_type": "code",
   "execution_count": 159,
   "id": "71d38f98",
   "metadata": {},
   "outputs": [
    {
     "data": {
      "text/plain": [
       "filed_case_type    int32\n",
       "crime_type         int32\n",
       "dv_case            int32\n",
       "case_status        int32\n",
       "dtype: object"
      ]
     },
     "execution_count": 159,
     "metadata": {},
     "output_type": "execute_result"
    }
   ],
   "source": [
    "datacd.dtypes"
   ]
  },
  {
   "cell_type": "markdown",
   "id": "c2778c1b",
   "metadata": {},
   "source": [
    "The code below plots the remaining features on scatterplots with respect to the case status and adds a linear regression line to determine the correlation. However, from looking at the graphs, it is not very easy to tell whether there is any correlation between the values.  "
   ]
  },
  {
   "cell_type": "code",
   "execution_count": 97,
   "id": "7e6723eb",
   "metadata": {},
   "outputs": [
    {
     "data": {
      "image/png": "[encoded data removed]",
      "text/plain": [
       "<Figure size 2000x600 with 3 Axes>"
      ]
     },
     "metadata": {},
     "output_type": "display_data"
    }
   ],
   "source": [
    "subplotCount = 1\n",
    "for column in datacd.drop(columns=['case_status']).columns:\n",
    "    plt.subplot(1,3, subplotCount)\n",
    "    plt.scatter(datacd[column], datacd.case_status)\n",
    "    plt.title(str(\"\" + str(column).capitalize() + \" VS Case Status\"))\n",
    "    plt.xlabel(column)\n",
    "    plt.ylabel('case status')\n",
    "    subplotCount = subplotCount + 1\n",
    "    \n",
    "    regr = lm.LinearRegression()\n",
    "    all_columns = ['filed_case_type', 'crime_type', 'dv_case', 'case_status']\n",
    "    all_columns.remove(str(column))\n",
    "    X = datacd.drop(columns = all_columns)\n",
    "    y = datacd.case_status\n",
    "    regr = regr.fit(X,y)\n",
    "    plt.plot(X, regr.coef_ * X + regr.intercept_, color='green')\n",
    "plt.rcParams['figure.figsize'] = [20, 6]\n",
    "plt.subplots_adjust(wspace=0.3)\n",
    "plt.show()"
   ]
  },
  {
   "cell_type": "markdown",
   "id": "8813dd54",
   "metadata": {},
   "source": [
    "This code below plots a seaborn heatmap which gives the correlation values of the different features with respect to one another. This graph is much easier to read and determine correlation. The values in the table are the correlation coefficient . A correlation coefficient close to 1 or -1 indicates high correlation but a correlation coeffiecient closer to zero indicates very low correlation. All the correlation coefficients in the table are close to zero indicating that there is low correlation between the features. "
   ]
  },
  {
   "cell_type": "code",
   "execution_count": 101,
   "id": "0c549cb8",
   "metadata": {},
   "outputs": [
    {
     "data": {
      "image/png": "[encoded data removed]",
      "text/plain": [
       "<Figure size 2000x600 with 5 Axes>"
      ]
     },
     "metadata": {},
     "output_type": "display_data"
    }
   ],
   "source": [
    "sns.heatmap(datacd.corr(), annot=True, annot_kws={\"size\": 7})\n",
    "plt.show()"
   ]
  },
  {
   "cell_type": "markdown",
   "id": "4c9cae77",
   "metadata": {},
   "source": [
    "__Created the X and y datasets__, given that we want to predict the the case status."
   ]
  },
  {
   "cell_type": "code",
   "execution_count": 160,
   "id": "ac95fc13",
   "metadata": {},
   "outputs": [
    {
     "data": {
      "text/plain": [
       "11070    0\n",
       "11071    0\n",
       "11072    0\n",
       "11073    0\n",
       "11074    0\n",
       "Name: case_status, dtype: int32"
      ]
     },
     "metadata": {},
     "output_type": "display_data"
    },
    {
     "data": {
      "text/html": [
       "<div>\n",
       "<style scoped>\n",
       "    .dataframe tbody tr th:only-of-type {\n",
       "        vertical-align: middle;\n",
       "    }\n",
       "\n",
       "    .dataframe tbody tr th {\n",
       "        vertical-align: top;\n",
       "    }\n",
       "\n",
       "    .dataframe thead th {\n",
       "        text-align: right;\n",
       "    }\n",
       "</style>\n",
       "<table border=\"1\" class=\"dataframe\">\n",
       "  <thead>\n",
       "    <tr style=\"text-align: right;\">\n",
       "      <th></th>\n",
       "      <th>filed_case_type</th>\n",
       "      <th>crime_type</th>\n",
       "      <th>dv_case</th>\n",
       "    </tr>\n",
       "  </thead>\n",
       "  <tbody>\n",
       "    <tr>\n",
       "      <th>11070</th>\n",
       "      <td>1</td>\n",
       "      <td>1</td>\n",
       "      <td>1</td>\n",
       "    </tr>\n",
       "    <tr>\n",
       "      <th>11071</th>\n",
       "      <td>1</td>\n",
       "      <td>1</td>\n",
       "      <td>1</td>\n",
       "    </tr>\n",
       "    <tr>\n",
       "      <th>11072</th>\n",
       "      <td>1</td>\n",
       "      <td>1</td>\n",
       "      <td>1</td>\n",
       "    </tr>\n",
       "    <tr>\n",
       "      <th>11073</th>\n",
       "      <td>1</td>\n",
       "      <td>1</td>\n",
       "      <td>1</td>\n",
       "    </tr>\n",
       "    <tr>\n",
       "      <th>11074</th>\n",
       "      <td>1</td>\n",
       "      <td>1</td>\n",
       "      <td>1</td>\n",
       "    </tr>\n",
       "  </tbody>\n",
       "</table>\n",
       "</div>"
      ],
      "text/plain": [
       "       filed_case_type  crime_type  dv_case\n",
       "11070                1           1        1\n",
       "11071                1           1        1\n",
       "11072                1           1        1\n",
       "11073                1           1        1\n",
       "11074                1           1        1"
      ]
     },
     "metadata": {},
     "output_type": "display_data"
    }
   ],
   "source": [
    "y=datacd.case_status\n",
    "X=datacd.drop(columns=['case_status'])\n",
    "\n",
    "display(y.head(5))\n",
    "display(X.head(5))"
   ]
  },
  {
   "cell_type": "markdown",
   "id": "2b26c605",
   "metadata": {},
   "source": [
    "__Created the training and testing X and y datasets.__<br>\n",
    "Then printed the shape of each set."
   ]
  },
  {
   "cell_type": "code",
   "execution_count": 161,
   "id": "01c8edfd",
   "metadata": {},
   "outputs": [
    {
     "name": "stdout",
     "output_type": "stream",
     "text": [
      "(35265, 3) (11755, 3) (35265,) (11755,)\n"
     ]
    }
   ],
   "source": [
    "X_train, X_test, y_train, y_test = train_test_split(X,y, test_size=0.25)\n",
    "print(X_train.shape, X_test.shape, y_train.shape, y_test.shape)"
   ]
  },
  {
   "cell_type": "markdown",
   "id": "550bf68f",
   "metadata": {},
   "source": [
    "__Determined the best classification model to use by comparing the accuracy__"
   ]
  },
  {
   "cell_type": "code",
   "execution_count": 163,
   "id": "d881bb38",
   "metadata": {},
   "outputs": [],
   "source": [
    "classifiers = [\n",
    "    KNeighborsClassifier(),\n",
    "    DecisionTreeClassifier(),\n",
    "    RandomForestClassifier(),\n",
    "    GaussianNB()\n",
    "    ]"
   ]
  },
  {
   "cell_type": "code",
   "execution_count": 164,
   "id": "feee7f0d",
   "metadata": {},
   "outputs": [
    {
     "name": "stderr",
     "output_type": "stream",
     "text": [
      "C:\\Users\\shwet\\anaconda\\lib\\site-packages\\sklearn\\neighbors\\_classification.py:228: FutureWarning: Unlike other reduction functions (e.g. `skew`, `kurtosis`), the default behavior of `mode` typically preserves the axis it acts along. In SciPy 1.11.0, this behavior will change: the default value of `keepdims` will become False, the `axis` over which the statistic is taken will be eliminated, and the value None will no longer be accepted. Set `keepdims` to True or False to avoid this warning.\n",
      "  mode, _ = stats.mode(_y[neigh_ind, k], axis=1)\n"
     ]
    },
    {
     "name": "stdout",
     "output_type": "stream",
     "text": [
      "KNeighborsClassifier()\n"
     ]
    },
    {
     "name": "stderr",
     "output_type": "stream",
     "text": [
      "C:\\Users\\shwet\\anaconda\\lib\\site-packages\\sklearn\\neighbors\\_classification.py:228: FutureWarning: Unlike other reduction functions (e.g. `skew`, `kurtosis`), the default behavior of `mode` typically preserves the axis it acts along. In SciPy 1.11.0, this behavior will change: the default value of `keepdims` will become False, the `axis` over which the statistic is taken will be eliminated, and the value None will no longer be accepted. Set `keepdims` to True or False to avoid this warning.\n",
      "  mode, _ = stats.mode(_y[neigh_ind, k], axis=1)\n"
     ]
    },
    {
     "name": "stdout",
     "output_type": "stream",
     "text": [
      " f1_score: 0.722\n",
      " mean accuracy score: 0.764\n",
      " accuracy_score: 0.763\n",
      "DecisionTreeClassifier()\n",
      " f1_score: 0.737\n",
      " mean accuracy score: 0.791\n",
      " accuracy_score: 0.791\n",
      "RandomForestClassifier()\n",
      " f1_score: 0.737\n",
      " mean accuracy score: 0.791\n",
      " accuracy_score: 0.791\n",
      "GaussianNB()\n",
      " f1_score: 0.734\n",
      " mean accuracy score: 0.774\n",
      " accuracy_score: 0.774\n"
     ]
    }
   ],
   "source": [
    "classifier_results=[]\n",
    "for classifier in classifiers:\n",
    "    # train the classifier\n",
    "    classifier.fit(X_train, y_train)  \n",
    "    # test the trained classifier\n",
    "    y_output = classifier.predict(X_test)\n",
    "    # compare the predicted output with the actual output\n",
    "    print(classifier)\n",
    "    score = f1_score(y_test, y_output, average='weighted')\n",
    "    mean_accuracy_score = round(classifier.score(X,y),3)\n",
    "    accuracy_score = round(metrics.accuracy_score(y_test, y_output), 3)\n",
    "    print(f\" f1_score: {score:.3f}\\n mean accuracy score: {mean_accuracy_score}\\n accuracy_score: {accuracy_score}\")\n",
    "    \n",
    "    classifier_results.append({'classifier_model': str(classifier), 'f1_score': score, 'mean_accuracy_score': mean_accuracy_score, 'accuracy_score': accuracy_score})"
   ]
  },
  {
   "cell_type": "markdown",
   "id": "3d33e821",
   "metadata": {},
   "source": [
    "I sorted all the classfiers above by comparing their f1 score, their mean accuracy score, and their accuracy score. I found that overall, the DesicionTreeClassifier was the most accurate of the models that I tested, so I proceeded with it."
   ]
  },
  {
   "cell_type": "code",
   "execution_count": 166,
   "id": "ca9d12c6",
   "metadata": {
    "scrolled": true
   },
   "outputs": [
    {
     "data": {
      "text/html": [
       "<div>\n",
       "<style scoped>\n",
       "    .dataframe tbody tr th:only-of-type {\n",
       "        vertical-align: middle;\n",
       "    }\n",
       "\n",
       "    .dataframe tbody tr th {\n",
       "        vertical-align: top;\n",
       "    }\n",
       "\n",
       "    .dataframe thead th {\n",
       "        text-align: right;\n",
       "    }\n",
       "</style>\n",
       "<table border=\"1\" class=\"dataframe\">\n",
       "  <thead>\n",
       "    <tr style=\"text-align: right;\">\n",
       "      <th></th>\n",
       "      <th>classifier_model</th>\n",
       "      <th>f1_score</th>\n",
       "      <th>mean_accuracy_score</th>\n",
       "      <th>accuracy_score</th>\n",
       "    </tr>\n",
       "  </thead>\n",
       "  <tbody>\n",
       "    <tr>\n",
       "      <th>1</th>\n",
       "      <td>DecisionTreeClassifier()</td>\n",
       "      <td>0.736859</td>\n",
       "      <td>0.791</td>\n",
       "      <td>0.791</td>\n",
       "    </tr>\n",
       "    <tr>\n",
       "      <th>2</th>\n",
       "      <td>RandomForestClassifier()</td>\n",
       "      <td>0.736798</td>\n",
       "      <td>0.791</td>\n",
       "      <td>0.791</td>\n",
       "    </tr>\n",
       "    <tr>\n",
       "      <th>3</th>\n",
       "      <td>GaussianNB()</td>\n",
       "      <td>0.734276</td>\n",
       "      <td>0.774</td>\n",
       "      <td>0.774</td>\n",
       "    </tr>\n",
       "    <tr>\n",
       "      <th>0</th>\n",
       "      <td>KNeighborsClassifier()</td>\n",
       "      <td>0.722078</td>\n",
       "      <td>0.764</td>\n",
       "      <td>0.763</td>\n",
       "    </tr>\n",
       "  </tbody>\n",
       "</table>\n",
       "</div>"
      ],
      "text/plain": [
       "           classifier_model  f1_score  mean_accuracy_score  accuracy_score\n",
       "1  DecisionTreeClassifier()  0.736859                0.791           0.791\n",
       "2  RandomForestClassifier()  0.736798                0.791           0.791\n",
       "3              GaussianNB()  0.734276                0.774           0.774\n",
       "0    KNeighborsClassifier()  0.722078                0.764           0.763"
      ]
     },
     "metadata": {},
     "output_type": "display_data"
    },
    {
     "data": {
      "text/html": [
       "<div>\n",
       "<style scoped>\n",
       "    .dataframe tbody tr th:only-of-type {\n",
       "        vertical-align: middle;\n",
       "    }\n",
       "\n",
       "    .dataframe tbody tr th {\n",
       "        vertical-align: top;\n",
       "    }\n",
       "\n",
       "    .dataframe thead th {\n",
       "        text-align: right;\n",
       "    }\n",
       "</style>\n",
       "<table border=\"1\" class=\"dataframe\">\n",
       "  <thead>\n",
       "    <tr style=\"text-align: right;\">\n",
       "      <th></th>\n",
       "      <th>classifier_model</th>\n",
       "      <th>f1_score</th>\n",
       "      <th>mean_accuracy_score</th>\n",
       "      <th>accuracy_score</th>\n",
       "    </tr>\n",
       "  </thead>\n",
       "  <tbody>\n",
       "    <tr>\n",
       "      <th>1</th>\n",
       "      <td>DecisionTreeClassifier()</td>\n",
       "      <td>0.736859</td>\n",
       "      <td>0.791</td>\n",
       "      <td>0.791</td>\n",
       "    </tr>\n",
       "    <tr>\n",
       "      <th>2</th>\n",
       "      <td>RandomForestClassifier()</td>\n",
       "      <td>0.736798</td>\n",
       "      <td>0.791</td>\n",
       "      <td>0.791</td>\n",
       "    </tr>\n",
       "    <tr>\n",
       "      <th>3</th>\n",
       "      <td>GaussianNB()</td>\n",
       "      <td>0.734276</td>\n",
       "      <td>0.774</td>\n",
       "      <td>0.774</td>\n",
       "    </tr>\n",
       "    <tr>\n",
       "      <th>0</th>\n",
       "      <td>KNeighborsClassifier()</td>\n",
       "      <td>0.722078</td>\n",
       "      <td>0.764</td>\n",
       "      <td>0.763</td>\n",
       "    </tr>\n",
       "  </tbody>\n",
       "</table>\n",
       "</div>"
      ],
      "text/plain": [
       "           classifier_model  f1_score  mean_accuracy_score  accuracy_score\n",
       "1  DecisionTreeClassifier()  0.736859                0.791           0.791\n",
       "2  RandomForestClassifier()  0.736798                0.791           0.791\n",
       "3              GaussianNB()  0.734276                0.774           0.774\n",
       "0    KNeighborsClassifier()  0.722078                0.764           0.763"
      ]
     },
     "metadata": {},
     "output_type": "display_data"
    },
    {
     "data": {
      "text/html": [
       "<div>\n",
       "<style scoped>\n",
       "    .dataframe tbody tr th:only-of-type {\n",
       "        vertical-align: middle;\n",
       "    }\n",
       "\n",
       "    .dataframe tbody tr th {\n",
       "        vertical-align: top;\n",
       "    }\n",
       "\n",
       "    .dataframe thead th {\n",
       "        text-align: right;\n",
       "    }\n",
       "</style>\n",
       "<table border=\"1\" class=\"dataframe\">\n",
       "  <thead>\n",
       "    <tr style=\"text-align: right;\">\n",
       "      <th></th>\n",
       "      <th>classifier_model</th>\n",
       "      <th>f1_score</th>\n",
       "      <th>mean_accuracy_score</th>\n",
       "      <th>accuracy_score</th>\n",
       "    </tr>\n",
       "  </thead>\n",
       "  <tbody>\n",
       "    <tr>\n",
       "      <th>1</th>\n",
       "      <td>DecisionTreeClassifier()</td>\n",
       "      <td>0.736859</td>\n",
       "      <td>0.791</td>\n",
       "      <td>0.791</td>\n",
       "    </tr>\n",
       "    <tr>\n",
       "      <th>2</th>\n",
       "      <td>RandomForestClassifier()</td>\n",
       "      <td>0.736798</td>\n",
       "      <td>0.791</td>\n",
       "      <td>0.791</td>\n",
       "    </tr>\n",
       "    <tr>\n",
       "      <th>3</th>\n",
       "      <td>GaussianNB()</td>\n",
       "      <td>0.734276</td>\n",
       "      <td>0.774</td>\n",
       "      <td>0.774</td>\n",
       "    </tr>\n",
       "    <tr>\n",
       "      <th>0</th>\n",
       "      <td>KNeighborsClassifier()</td>\n",
       "      <td>0.722078</td>\n",
       "      <td>0.764</td>\n",
       "      <td>0.763</td>\n",
       "    </tr>\n",
       "  </tbody>\n",
       "</table>\n",
       "</div>"
      ],
      "text/plain": [
       "           classifier_model  f1_score  mean_accuracy_score  accuracy_score\n",
       "1  DecisionTreeClassifier()  0.736859                0.791           0.791\n",
       "2  RandomForestClassifier()  0.736798                0.791           0.791\n",
       "3              GaussianNB()  0.734276                0.774           0.774\n",
       "0    KNeighborsClassifier()  0.722078                0.764           0.763"
      ]
     },
     "metadata": {},
     "output_type": "display_data"
    }
   ],
   "source": [
    "results = pd.DataFrame(classifier_results)\n",
    "display(results.sort_values(by='f1_score', ascending=False))\n",
    "display(results.sort_values(by='mean_accuracy_score', ascending=False))\n",
    "display(results.sort_values(by='accuracy_score', ascending=False))"
   ]
  },
  {
   "cell_type": "markdown",
   "id": "20ac3937",
   "metadata": {},
   "source": [
    "This code initializes, fits, and tests the DesicionTreeClassifier"
   ]
  },
  {
   "cell_type": "code",
   "execution_count": 175,
   "id": "e6b5d296",
   "metadata": {},
   "outputs": [
    {
     "data": {
      "text/html": [
       "<div>\n",
       "<style scoped>\n",
       "    .dataframe tbody tr th:only-of-type {\n",
       "        vertical-align: middle;\n",
       "    }\n",
       "\n",
       "    .dataframe tbody tr th {\n",
       "        vertical-align: top;\n",
       "    }\n",
       "\n",
       "    .dataframe thead th {\n",
       "        text-align: right;\n",
       "    }\n",
       "</style>\n",
       "<table border=\"1\" class=\"dataframe\">\n",
       "  <thead>\n",
       "    <tr style=\"text-align: right;\">\n",
       "      <th></th>\n",
       "      <th>Actual</th>\n",
       "      <th>Predicted</th>\n",
       "    </tr>\n",
       "  </thead>\n",
       "  <tbody>\n",
       "    <tr>\n",
       "      <th>46781</th>\n",
       "      <td>0</td>\n",
       "      <td>0</td>\n",
       "    </tr>\n",
       "    <tr>\n",
       "      <th>79865</th>\n",
       "      <td>0</td>\n",
       "      <td>0</td>\n",
       "    </tr>\n",
       "    <tr>\n",
       "      <th>54278</th>\n",
       "      <td>0</td>\n",
       "      <td>0</td>\n",
       "    </tr>\n",
       "    <tr>\n",
       "      <th>12330</th>\n",
       "      <td>0</td>\n",
       "      <td>0</td>\n",
       "    </tr>\n",
       "    <tr>\n",
       "      <th>75718</th>\n",
       "      <td>0</td>\n",
       "      <td>0</td>\n",
       "    </tr>\n",
       "    <tr>\n",
       "      <th>...</th>\n",
       "      <td>...</td>\n",
       "      <td>...</td>\n",
       "    </tr>\n",
       "    <tr>\n",
       "      <th>19953</th>\n",
       "      <td>0</td>\n",
       "      <td>0</td>\n",
       "    </tr>\n",
       "    <tr>\n",
       "      <th>24876</th>\n",
       "      <td>0</td>\n",
       "      <td>0</td>\n",
       "    </tr>\n",
       "    <tr>\n",
       "      <th>70018</th>\n",
       "      <td>1</td>\n",
       "      <td>0</td>\n",
       "    </tr>\n",
       "    <tr>\n",
       "      <th>34366</th>\n",
       "      <td>0</td>\n",
       "      <td>0</td>\n",
       "    </tr>\n",
       "    <tr>\n",
       "      <th>50452</th>\n",
       "      <td>0</td>\n",
       "      <td>0</td>\n",
       "    </tr>\n",
       "  </tbody>\n",
       "</table>\n",
       "<p>11755 rows × 2 columns</p>\n",
       "</div>"
      ],
      "text/plain": [
       "       Actual  Predicted\n",
       "46781       0          0\n",
       "79865       0          0\n",
       "54278       0          0\n",
       "12330       0          0\n",
       "75718       0          0\n",
       "...       ...        ...\n",
       "19953       0          0\n",
       "24876       0          0\n",
       "70018       1          0\n",
       "34366       0          0\n",
       "50452       0          0\n",
       "\n",
       "[11755 rows x 2 columns]"
      ]
     },
     "execution_count": 175,
     "metadata": {},
     "output_type": "execute_result"
    }
   ],
   "source": [
    "classifier = DecisionTreeClassifier()\n",
    "classifier.fit(X_train, y_train)  \n",
    "#test the trained classifier\n",
    "y_output = classifier.predict(X_test)\n",
    "df = pd.DataFrame({'Actual': y_test, 'Predicted': y_output})\n",
    "df"
   ]
  },
  {
   "cell_type": "markdown",
   "id": "4628f8bc",
   "metadata": {},
   "source": [
    "This code prints the accuracy of the DesicionTreeClassifier. It is the most accurate of all of the classifiers we have gove over in this course. "
   ]
  },
  {
   "cell_type": "code",
   "execution_count": 173,
   "id": "b1ec54d6",
   "metadata": {},
   "outputs": [
    {
     "name": "stdout",
     "output_type": "stream",
     "text": [
      "{'classifier_model': 'DecisionTreeClassifier()', 'f1_score': 0.7368593764092597, 'mean_accuracy_score': 0.791, 'accuracy_score': 0.791}\n"
     ]
    }
   ],
   "source": [
    "print(classifier_results[1])"
   ]
  },
  {
   "cell_type": "markdown",
   "id": "dad08c2d",
   "metadata": {},
   "source": [
    "This code uses the DecisionTreeClassifier with my own inputs to test if that given case would be convicted or dismissed. Then once the model returns a zero or one, I use the dict_status I created earlier to correctly return 'Convicted' or 'Dismissed' by passing finding it in the list of keys. "
   ]
  },
  {
   "cell_type": "code",
   "execution_count": 184,
   "id": "328202a4",
   "metadata": {},
   "outputs": [
    {
     "name": "stdout",
     "output_type": "stream",
     "text": [
      "Felony, Driving Under Influence, No Domestic Violence:\t\t Conviction\n",
      "Misdemeanor, Driving Under Influence, Domestic Violence:\t Conviction\n",
      "Felony, Driving Under Influence, Domestic Violence:\t\t Conviction\n",
      "Misdemeanor, Other Sex Law Violations, No Domestic Violence:\t Dismissal\n",
      "Felony,Other Sex Law Violations, No Domestic Violence:\t\t Dismissal\n",
      "Misdemeanor, Other Sex Law Violations, No Domestic Violence:\t Dismissal\n"
     ]
    },
    {
     "name": "stderr",
     "output_type": "stream",
     "text": [
      "C:\\Users\\shwet\\anaconda\\lib\\site-packages\\sklearn\\base.py:450: UserWarning: X does not have valid feature names, but DecisionTreeClassifier was fitted with feature names\n",
      "  warnings.warn(\n",
      "C:\\Users\\shwet\\anaconda\\lib\\site-packages\\sklearn\\base.py:450: UserWarning: X does not have valid feature names, but DecisionTreeClassifier was fitted with feature names\n",
      "  warnings.warn(\n",
      "C:\\Users\\shwet\\anaconda\\lib\\site-packages\\sklearn\\base.py:450: UserWarning: X does not have valid feature names, but DecisionTreeClassifier was fitted with feature names\n",
      "  warnings.warn(\n",
      "C:\\Users\\shwet\\anaconda\\lib\\site-packages\\sklearn\\base.py:450: UserWarning: X does not have valid feature names, but DecisionTreeClassifier was fitted with feature names\n",
      "  warnings.warn(\n",
      "C:\\Users\\shwet\\anaconda\\lib\\site-packages\\sklearn\\base.py:450: UserWarning: X does not have valid feature names, but DecisionTreeClassifier was fitted with feature names\n",
      "  warnings.warn(\n",
      "C:\\Users\\shwet\\anaconda\\lib\\site-packages\\sklearn\\base.py:450: UserWarning: X does not have valid feature names, but DecisionTreeClassifier was fitted with feature names\n",
      "  warnings.warn(\n"
     ]
    }
   ],
   "source": [
    "print(\"Felony, Driving Under Influence, No Domestic Violence:\\t\\t\",list(dict_status.keys())[list(dict_status.values()).index(classifier.predict([[1, 13, 1]]))]) #Felony, Driving Under Influence, No Domestic Violence\n",
    "print(\"Misdemeanor, Driving Under Influence, Domestic Violence:\\t\",list(dict_status.keys())[list(dict_status.values()).index(classifier.predict([[2, 13, 0]]))]) #Misdemeanor, Driving Under Influence, Domestic Violence\n",
    "print('Felony, Driving Under Influence, Domestic Violence:\\t\\t',list(dict_status.keys())[list(dict_status.values()).index(classifier.predict([[1, 13, 0]]))]) #Felony, Driving Under Influence, Domestic Violence\n",
    "print('Misdemeanor, Other Sex Law Violations, No Domestic Violence:\\t',list(dict_status.keys())[list(dict_status.values()).index(classifier.predict([[2, 40, 1]]))]) #Misdemeanor, Other Sex Law Violations, No Domestic Violence\n",
    "print('Felony,Other Sex Law Violations, No Domestic Violence:\\t\\t',list(dict_status.keys())[list(dict_status.values()).index(classifier.predict([[1, 40, 1]]))]) #Felony,Other Sex Law Violations, No Domestic Violence\n",
    "print('Misdemeanor, Other Sex Law Violations, No Domestic Violence:\\t',list(dict_status.keys())[list(dict_status.values()).index(classifier.predict([[2, 40, 0]]))]) #Misdemeanor, Other Sex Law Violations, No Domestic Violence"
   ]
  },
  {
   "cell_type": "markdown",
   "id": "9c69a196",
   "metadata": {},
   "source": [
    "### Conclusion\n",
    "\n",
    "From the heatmap, we can see that there is faily weak correlation between the different features and the status of a case. The graph of the features versus the case status confirms that there isn't a clear correlation between the 3 feature, filed_case_type, crime_type, dv_case and the status of the case. However, from the seaborn violin scatterplot, we can see that there are definetely certain types of cases that are convicted more than other types of cases, for example Case 13. There are also other cases that are dismissed much more often than convicted, such as Case 40. Additionally, when testing my DecisionTreeClassifier with my own input above I found that no matter if I changed the other two features, Case 13 returned 'Convicted' all 3 times. Similarly, no matter if I changed the features for Case 40, it still returned 'Dismissed' all three times. This leads me to believe that there is another counfounding variable leading to this unexplained difference. In order to expand on this research, more relevant data of possible features should be collected which will get us closer to finding the confounding variable. When I cut down this intital dataset to its most relevant parts, I found there were only 3 features to use which may have skewed the result due to undercoverage. "
   ]
  }
 ],
 "metadata": {
  "kernelspec": {
   "display_name": "Python 3 (ipykernel)",
   "language": "python",
   "name": "python3"
  },
  "language_info": {
   "codemirror_mode": {
    "name": "ipython",
    "version": 3
   },
   "file_extension": ".py",
   "mimetype": "text/x-python",
   "name": "python",
   "nbconvert_exporter": "python",
   "pygments_lexer": "ipython3",
   "version": "3.9.13"
  }
 },
 "nbformat": 4,
 "nbformat_minor": 5
}
